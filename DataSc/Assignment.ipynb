{
 "cells": [
  {
   "cell_type": "code",
   "execution_count": 1,
   "id": "24201c24-9747-4db0-aabf-3acdc3e1524e",
   "metadata": {},
   "outputs": [],
   "source": [
    "import pandas as pd\n",
    "import matplotlib.pyplot as plt"
   ]
  },
  {
   "cell_type": "code",
   "execution_count": 2,
   "id": "2ae66897-7e3e-4c9c-9af1-d5b4aac6d01e",
   "metadata": {},
   "outputs": [],
   "source": [
    "Df1=pd.read_csv(\"timespent.csv\")"
   ]
  },
  {
   "cell_type": "code",
   "execution_count": 3,
   "id": "52a9cd9d-b830-4677-91cf-abffa49e1f39",
   "metadata": {},
   "outputs": [
    {
     "data": {
      "text/html": [
       "<div>\n",
       "<style scoped>\n",
       "    .dataframe tbody tr th:only-of-type {\n",
       "        vertical-align: middle;\n",
       "    }\n",
       "\n",
       "    .dataframe tbody tr th {\n",
       "        vertical-align: top;\n",
       "    }\n",
       "\n",
       "    .dataframe thead th {\n",
       "        text-align: right;\n",
       "    }\n",
       "</style>\n",
       "<table border=\"1\" class=\"dataframe\">\n",
       "  <thead>\n",
       "    <tr style=\"text-align: right;\">\n",
       "      <th></th>\n",
       "      <th>users</th>\n",
       "      <th>timeSpent</th>\n",
       "    </tr>\n",
       "  </thead>\n",
       "  <tbody>\n",
       "    <tr>\n",
       "      <th>0</th>\n",
       "      <td>Sushmita</td>\n",
       "      <td>31.266056</td>\n",
       "    </tr>\n",
       "    <tr>\n",
       "      <th>1</th>\n",
       "      <td>Adam</td>\n",
       "      <td>17.900529</td>\n",
       "    </tr>\n",
       "    <tr>\n",
       "      <th>2</th>\n",
       "      <td>Benny</td>\n",
       "      <td>265.236086</td>\n",
       "    </tr>\n",
       "    <tr>\n",
       "      <th>3</th>\n",
       "      <td>Anurag</td>\n",
       "      <td>42.470696</td>\n",
       "    </tr>\n",
       "  </tbody>\n",
       "</table>\n",
       "</div>"
      ],
      "text/plain": [
       "      users   timeSpent\n",
       "0  Sushmita   31.266056\n",
       "1      Adam   17.900529\n",
       "2     Benny  265.236086\n",
       "3    Anurag   42.470696"
      ]
     },
     "execution_count": 3,
     "metadata": {},
     "output_type": "execute_result"
    }
   ],
   "source": [
    "Df1"
   ]
  },
  {
   "cell_type": "code",
   "execution_count": 4,
   "id": "7e5669f3-a4bd-4394-83c7-009fc9b21aea",
   "metadata": {},
   "outputs": [],
   "source": [
    "Df2=pd.read_csv(\"cost.csv\")"
   ]
  },
  {
   "cell_type": "code",
   "execution_count": 5,
   "id": "4cae708f-2494-47a6-a188-171bec33f721",
   "metadata": {},
   "outputs": [
    {
     "data": {
      "text/html": [
       "<div>\n",
       "<style scoped>\n",
       "    .dataframe tbody tr th:only-of-type {\n",
       "        vertical-align: middle;\n",
       "    }\n",
       "\n",
       "    .dataframe tbody tr th {\n",
       "        vertical-align: top;\n",
       "    }\n",
       "\n",
       "    .dataframe thead th {\n",
       "        text-align: right;\n",
       "    }\n",
       "</style>\n",
       "<table border=\"1\" class=\"dataframe\">\n",
       "  <thead>\n",
       "    <tr style=\"text-align: right;\">\n",
       "      <th></th>\n",
       "      <th>users</th>\n",
       "      <th>cost</th>\n",
       "    </tr>\n",
       "  </thead>\n",
       "  <tbody>\n",
       "    <tr>\n",
       "      <th>0</th>\n",
       "      <td>Adam</td>\n",
       "      <td>20.0</td>\n",
       "    </tr>\n",
       "    <tr>\n",
       "      <th>1</th>\n",
       "      <td>Anurag</td>\n",
       "      <td>NaN</td>\n",
       "    </tr>\n",
       "    <tr>\n",
       "      <th>2</th>\n",
       "      <td>Benny</td>\n",
       "      <td>15.0</td>\n",
       "    </tr>\n",
       "    <tr>\n",
       "      <th>3</th>\n",
       "      <td>Sushmita</td>\n",
       "      <td>2.0</td>\n",
       "    </tr>\n",
       "    <tr>\n",
       "      <th>4</th>\n",
       "      <td>Apoorva</td>\n",
       "      <td>7.0</td>\n",
       "    </tr>\n",
       "  </tbody>\n",
       "</table>\n",
       "</div>"
      ],
      "text/plain": [
       "      users  cost\n",
       "0      Adam  20.0\n",
       "1    Anurag   NaN\n",
       "2     Benny  15.0\n",
       "3  Sushmita   2.0\n",
       "4   Apoorva   7.0"
      ]
     },
     "execution_count": 5,
     "metadata": {},
     "output_type": "execute_result"
    }
   ],
   "source": [
    "Df2"
   ]
  },
  {
   "cell_type": "markdown",
   "id": "e8da200b-05f4-4e6c-a165-c9bef7f37d59",
   "metadata": {},
   "source": [
    "## Merging The Two Data Frames"
   ]
  },
  {
   "cell_type": "code",
   "execution_count": 6,
   "id": "65baf262-312e-428b-9d9b-77fa57c78872",
   "metadata": {},
   "outputs": [],
   "source": [
    "Df3_merge=pd.merge(Df1,Df2)"
   ]
  },
  {
   "cell_type": "code",
   "execution_count": 7,
   "id": "7a86bc57-025b-4a5b-ab15-1e31a178d255",
   "metadata": {},
   "outputs": [
    {
     "data": {
      "text/html": [
       "<div>\n",
       "<style scoped>\n",
       "    .dataframe tbody tr th:only-of-type {\n",
       "        vertical-align: middle;\n",
       "    }\n",
       "\n",
       "    .dataframe tbody tr th {\n",
       "        vertical-align: top;\n",
       "    }\n",
       "\n",
       "    .dataframe thead th {\n",
       "        text-align: right;\n",
       "    }\n",
       "</style>\n",
       "<table border=\"1\" class=\"dataframe\">\n",
       "  <thead>\n",
       "    <tr style=\"text-align: right;\">\n",
       "      <th></th>\n",
       "      <th>users</th>\n",
       "      <th>timeSpent</th>\n",
       "      <th>cost</th>\n",
       "    </tr>\n",
       "  </thead>\n",
       "  <tbody>\n",
       "    <tr>\n",
       "      <th>0</th>\n",
       "      <td>Sushmita</td>\n",
       "      <td>31.266056</td>\n",
       "      <td>2.0</td>\n",
       "    </tr>\n",
       "    <tr>\n",
       "      <th>1</th>\n",
       "      <td>Adam</td>\n",
       "      <td>17.900529</td>\n",
       "      <td>20.0</td>\n",
       "    </tr>\n",
       "    <tr>\n",
       "      <th>2</th>\n",
       "      <td>Benny</td>\n",
       "      <td>265.236086</td>\n",
       "      <td>15.0</td>\n",
       "    </tr>\n",
       "    <tr>\n",
       "      <th>3</th>\n",
       "      <td>Anurag</td>\n",
       "      <td>42.470696</td>\n",
       "      <td>NaN</td>\n",
       "    </tr>\n",
       "  </tbody>\n",
       "</table>\n",
       "</div>"
      ],
      "text/plain": [
       "      users   timeSpent  cost\n",
       "0  Sushmita   31.266056   2.0\n",
       "1      Adam   17.900529  20.0\n",
       "2     Benny  265.236086  15.0\n",
       "3    Anurag   42.470696   NaN"
      ]
     },
     "execution_count": 7,
     "metadata": {},
     "output_type": "execute_result"
    }
   ],
   "source": [
    "Df3_merge"
   ]
  },
  {
   "cell_type": "markdown",
   "id": "4657f075-df76-4ead-b726-a0a57f966b2e",
   "metadata": {},
   "source": [
    "## Second excersise"
   ]
  },
  {
   "cell_type": "code",
   "execution_count": 8,
   "id": "04d93df9-ba16-4761-959f-341f66dadfde",
   "metadata": {},
   "outputs": [],
   "source": [
    "Details_of_user= pd.read_json(\"user_info.json\")"
   ]
  },
  {
   "cell_type": "code",
   "execution_count": 9,
   "id": "ef030610-b507-41ed-b1b7-64474ac7ea05",
   "metadata": {},
   "outputs": [
    {
     "data": {
      "text/html": [
       "<div>\n",
       "<style scoped>\n",
       "    .dataframe tbody tr th:only-of-type {\n",
       "        vertical-align: middle;\n",
       "    }\n",
       "\n",
       "    .dataframe tbody tr th {\n",
       "        vertical-align: top;\n",
       "    }\n",
       "\n",
       "    .dataframe thead th {\n",
       "        text-align: right;\n",
       "    }\n",
       "</style>\n",
       "<table border=\"1\" class=\"dataframe\">\n",
       "  <thead>\n",
       "    <tr style=\"text-align: right;\">\n",
       "      <th></th>\n",
       "      <th>_id</th>\n",
       "      <th>index</th>\n",
       "      <th>guid</th>\n",
       "      <th>isActive</th>\n",
       "      <th>balance</th>\n",
       "      <th>picture</th>\n",
       "      <th>age</th>\n",
       "      <th>eyeColor</th>\n",
       "      <th>name</th>\n",
       "      <th>gender</th>\n",
       "      <th>...</th>\n",
       "      <th>phone</th>\n",
       "      <th>address</th>\n",
       "      <th>about</th>\n",
       "      <th>registered</th>\n",
       "      <th>latitude</th>\n",
       "      <th>longitude</th>\n",
       "      <th>tags</th>\n",
       "      <th>friends</th>\n",
       "      <th>greeting</th>\n",
       "      <th>favoriteFruit</th>\n",
       "    </tr>\n",
       "  </thead>\n",
       "  <tbody>\n",
       "    <tr>\n",
       "      <th>0</th>\n",
       "      <td>5c0a28d7a647437fd3d3a6aa</td>\n",
       "      <td>0</td>\n",
       "      <td>832f1af4-fb18-4ba8-b032-f4cbf343dbe9</td>\n",
       "      <td>False</td>\n",
       "      <td>$3,806.93</td>\n",
       "      <td>http://placehold.it/32x32</td>\n",
       "      <td>20</td>\n",
       "      <td>green</td>\n",
       "      <td>Grace Berry</td>\n",
       "      <td>female</td>\n",
       "      <td>...</td>\n",
       "      <td>+1 (814) 555-3298</td>\n",
       "      <td>698 Kansas Place, Bethpage, Louisiana, 7695</td>\n",
       "      <td>Nostrud consectetur elit occaecat dolore incid...</td>\n",
       "      <td>2015-12-09T08:21:48 -06:-30</td>\n",
       "      <td>-65.630631</td>\n",
       "      <td>131.991768</td>\n",
       "      <td>[eu, id, fugiat, deserunt, nulla, proident, la...</td>\n",
       "      <td>[{'id': 0, 'name': 'Small Pena'}, {'id': 1, 'n...</td>\n",
       "      <td>Hello, Grace Berry! You have 1 unread messages.</td>\n",
       "      <td>strawberry</td>\n",
       "    </tr>\n",
       "    <tr>\n",
       "      <th>1</th>\n",
       "      <td>5c0a28d780f6278b11586ab1</td>\n",
       "      <td>1</td>\n",
       "      <td>4306cb37-9506-48c2-8ccf-e69a063589ee</td>\n",
       "      <td>True</td>\n",
       "      <td>$3,330.01</td>\n",
       "      <td>http://placehold.it/32x32</td>\n",
       "      <td>22</td>\n",
       "      <td>brown</td>\n",
       "      <td>Hilary Sellers</td>\n",
       "      <td>female</td>\n",
       "      <td>...</td>\n",
       "      <td>+1 (942) 536-3059</td>\n",
       "      <td>309 Kingsway Place, Kilbourne, New York, 3771</td>\n",
       "      <td>Sunt id ipsum velit voluptate. Ullamco non non...</td>\n",
       "      <td>2014-12-15T11:42:39 -06:-30</td>\n",
       "      <td>38.790260</td>\n",
       "      <td>48.442002</td>\n",
       "      <td>[deserunt, do, adipisicing, in, aliqua, duis, ...</td>\n",
       "      <td>[{'id': 0, 'name': 'Spears Smith'}, {'id': 1, ...</td>\n",
       "      <td>Hello, Hilary Sellers! You have 4 unread messa...</td>\n",
       "      <td>apple</td>\n",
       "    </tr>\n",
       "    <tr>\n",
       "      <th>2</th>\n",
       "      <td>5c0a28d722e2e29d9bce2b64</td>\n",
       "      <td>2</td>\n",
       "      <td>5019e436-7cc4-48ee-a384-3483131f8ee1</td>\n",
       "      <td>True</td>\n",
       "      <td>$1,619.46</td>\n",
       "      <td>http://placehold.it/32x32</td>\n",
       "      <td>40</td>\n",
       "      <td>green</td>\n",
       "      <td>Sherri Gilbert</td>\n",
       "      <td>female</td>\n",
       "      <td>...</td>\n",
       "      <td>+1 (954) 591-2183</td>\n",
       "      <td>347 Seeley Street, Witmer, Kansas, 9369</td>\n",
       "      <td>Laborum ad excepteur amet sunt aliqua veniam c...</td>\n",
       "      <td>2014-10-31T05:02:03 -06:-30</td>\n",
       "      <td>34.404508</td>\n",
       "      <td>-116.452211</td>\n",
       "      <td>[adipisicing, cillum, deserunt, aute, ipsum, c...</td>\n",
       "      <td>[{'id': 0, 'name': 'Sexton Watts'}, {'id': 1, ...</td>\n",
       "      <td>Hello, Sherri Gilbert! You have 1 unread messa...</td>\n",
       "      <td>apple</td>\n",
       "    </tr>\n",
       "    <tr>\n",
       "      <th>3</th>\n",
       "      <td>5c0a28d76b5e8859a754cb4f</td>\n",
       "      <td>3</td>\n",
       "      <td>d2c4b1eb-2974-463a-b288-d1dae5dec187</td>\n",
       "      <td>False</td>\n",
       "      <td>$3,334.12</td>\n",
       "      <td>http://placehold.it/32x32</td>\n",
       "      <td>29</td>\n",
       "      <td>blue</td>\n",
       "      <td>Caldwell Patterson</td>\n",
       "      <td>male</td>\n",
       "      <td>...</td>\n",
       "      <td>+1 (815) 400-3780</td>\n",
       "      <td>178 Stewart Street, Ferney, Wyoming, 9118</td>\n",
       "      <td>Eu amet aliqua magna ipsum quis et ut reprehen...</td>\n",
       "      <td>2018-04-02T03:06:31 -06:-30</td>\n",
       "      <td>-63.424959</td>\n",
       "      <td>-51.151783</td>\n",
       "      <td>[adipisicing, veniam, dolor, duis, aute, tempo...</td>\n",
       "      <td>[{'id': 0, 'name': 'Anne Holcomb'}, {'id': 1, ...</td>\n",
       "      <td>Hello, Caldwell Patterson! You have 6 unread m...</td>\n",
       "      <td>strawberry</td>\n",
       "    </tr>\n",
       "    <tr>\n",
       "      <th>4</th>\n",
       "      <td>5c0a28d7ebb99c08e2288c76</td>\n",
       "      <td>4</td>\n",
       "      <td>df0b59ed-2e81-43f1-9ae0-16f138e738be</td>\n",
       "      <td>False</td>\n",
       "      <td>$1,368.48</td>\n",
       "      <td>http://placehold.it/32x32</td>\n",
       "      <td>33</td>\n",
       "      <td>brown</td>\n",
       "      <td>Head Mcconnell</td>\n",
       "      <td>male</td>\n",
       "      <td>...</td>\n",
       "      <td>+1 (820) 573-3154</td>\n",
       "      <td>189 Rogers Avenue, Lindisfarne, Mississippi, 1961</td>\n",
       "      <td>Sunt amet exercitation aliqua cillum commodo o...</td>\n",
       "      <td>2016-01-06T09:38:15 -06:-30</td>\n",
       "      <td>-80.136744</td>\n",
       "      <td>176.780600</td>\n",
       "      <td>[qui, aute, voluptate, eiusmod, est, est, cupi...</td>\n",
       "      <td>[{'id': 0, 'name': 'Elnora Peck'}, {'id': 1, '...</td>\n",
       "      <td>Hello, Head Mcconnell! You have 5 unread messa...</td>\n",
       "      <td>strawberry</td>\n",
       "    </tr>\n",
       "    <tr>\n",
       "      <th>5</th>\n",
       "      <td>5c0a28d749ce43912931715e</td>\n",
       "      <td>5</td>\n",
       "      <td>1d4dcbcd-c5b7-45a8-9650-82d7f98305c6</td>\n",
       "      <td>True</td>\n",
       "      <td>$2,441.66</td>\n",
       "      <td>http://placehold.it/32x32</td>\n",
       "      <td>23</td>\n",
       "      <td>green</td>\n",
       "      <td>Albert Lopez</td>\n",
       "      <td>male</td>\n",
       "      <td>...</td>\n",
       "      <td>+1 (971) 446-2770</td>\n",
       "      <td>311 Haring Street, Savannah, Michigan, 9161</td>\n",
       "      <td>Occaecat dolor minim et nisi cupidatat ipsum. ...</td>\n",
       "      <td>2018-08-03T04:18:49 -06:-30</td>\n",
       "      <td>46.397226</td>\n",
       "      <td>148.006522</td>\n",
       "      <td>[dolore, eiusmod, laborum, dolore, aliquip, al...</td>\n",
       "      <td>[{'id': 0, 'name': 'Candice Moreno'}, {'id': 1...</td>\n",
       "      <td>Hello, Albert Lopez! You have 2 unread messages.</td>\n",
       "      <td>apple</td>\n",
       "    </tr>\n",
       "  </tbody>\n",
       "</table>\n",
       "<p>6 rows × 22 columns</p>\n",
       "</div>"
      ],
      "text/plain": [
       "                        _id  index                                  guid  \\\n",
       "0  5c0a28d7a647437fd3d3a6aa      0  832f1af4-fb18-4ba8-b032-f4cbf343dbe9   \n",
       "1  5c0a28d780f6278b11586ab1      1  4306cb37-9506-48c2-8ccf-e69a063589ee   \n",
       "2  5c0a28d722e2e29d9bce2b64      2  5019e436-7cc4-48ee-a384-3483131f8ee1   \n",
       "3  5c0a28d76b5e8859a754cb4f      3  d2c4b1eb-2974-463a-b288-d1dae5dec187   \n",
       "4  5c0a28d7ebb99c08e2288c76      4  df0b59ed-2e81-43f1-9ae0-16f138e738be   \n",
       "5  5c0a28d749ce43912931715e      5  1d4dcbcd-c5b7-45a8-9650-82d7f98305c6   \n",
       "\n",
       "   isActive    balance                    picture  age eyeColor  \\\n",
       "0     False  $3,806.93  http://placehold.it/32x32   20    green   \n",
       "1      True  $3,330.01  http://placehold.it/32x32   22    brown   \n",
       "2      True  $1,619.46  http://placehold.it/32x32   40    green   \n",
       "3     False  $3,334.12  http://placehold.it/32x32   29     blue   \n",
       "4     False  $1,368.48  http://placehold.it/32x32   33    brown   \n",
       "5      True  $2,441.66  http://placehold.it/32x32   23    green   \n",
       "\n",
       "                 name  gender  ...              phone  \\\n",
       "0         Grace Berry  female  ...  +1 (814) 555-3298   \n",
       "1      Hilary Sellers  female  ...  +1 (942) 536-3059   \n",
       "2      Sherri Gilbert  female  ...  +1 (954) 591-2183   \n",
       "3  Caldwell Patterson    male  ...  +1 (815) 400-3780   \n",
       "4      Head Mcconnell    male  ...  +1 (820) 573-3154   \n",
       "5        Albert Lopez    male  ...  +1 (971) 446-2770   \n",
       "\n",
       "                                             address  \\\n",
       "0        698 Kansas Place, Bethpage, Louisiana, 7695   \n",
       "1      309 Kingsway Place, Kilbourne, New York, 3771   \n",
       "2            347 Seeley Street, Witmer, Kansas, 9369   \n",
       "3          178 Stewart Street, Ferney, Wyoming, 9118   \n",
       "4  189 Rogers Avenue, Lindisfarne, Mississippi, 1961   \n",
       "5        311 Haring Street, Savannah, Michigan, 9161   \n",
       "\n",
       "                                               about  \\\n",
       "0  Nostrud consectetur elit occaecat dolore incid...   \n",
       "1  Sunt id ipsum velit voluptate. Ullamco non non...   \n",
       "2  Laborum ad excepteur amet sunt aliqua veniam c...   \n",
       "3  Eu amet aliqua magna ipsum quis et ut reprehen...   \n",
       "4  Sunt amet exercitation aliqua cillum commodo o...   \n",
       "5  Occaecat dolor minim et nisi cupidatat ipsum. ...   \n",
       "\n",
       "                    registered   latitude   longitude  \\\n",
       "0  2015-12-09T08:21:48 -06:-30 -65.630631  131.991768   \n",
       "1  2014-12-15T11:42:39 -06:-30  38.790260   48.442002   \n",
       "2  2014-10-31T05:02:03 -06:-30  34.404508 -116.452211   \n",
       "3  2018-04-02T03:06:31 -06:-30 -63.424959  -51.151783   \n",
       "4  2016-01-06T09:38:15 -06:-30 -80.136744  176.780600   \n",
       "5  2018-08-03T04:18:49 -06:-30  46.397226  148.006522   \n",
       "\n",
       "                                                tags  \\\n",
       "0  [eu, id, fugiat, deserunt, nulla, proident, la...   \n",
       "1  [deserunt, do, adipisicing, in, aliqua, duis, ...   \n",
       "2  [adipisicing, cillum, deserunt, aute, ipsum, c...   \n",
       "3  [adipisicing, veniam, dolor, duis, aute, tempo...   \n",
       "4  [qui, aute, voluptate, eiusmod, est, est, cupi...   \n",
       "5  [dolore, eiusmod, laborum, dolore, aliquip, al...   \n",
       "\n",
       "                                             friends  \\\n",
       "0  [{'id': 0, 'name': 'Small Pena'}, {'id': 1, 'n...   \n",
       "1  [{'id': 0, 'name': 'Spears Smith'}, {'id': 1, ...   \n",
       "2  [{'id': 0, 'name': 'Sexton Watts'}, {'id': 1, ...   \n",
       "3  [{'id': 0, 'name': 'Anne Holcomb'}, {'id': 1, ...   \n",
       "4  [{'id': 0, 'name': 'Elnora Peck'}, {'id': 1, '...   \n",
       "5  [{'id': 0, 'name': 'Candice Moreno'}, {'id': 1...   \n",
       "\n",
       "                                            greeting favoriteFruit  \n",
       "0    Hello, Grace Berry! You have 1 unread messages.    strawberry  \n",
       "1  Hello, Hilary Sellers! You have 4 unread messa...         apple  \n",
       "2  Hello, Sherri Gilbert! You have 1 unread messa...         apple  \n",
       "3  Hello, Caldwell Patterson! You have 6 unread m...    strawberry  \n",
       "4  Hello, Head Mcconnell! You have 5 unread messa...    strawberry  \n",
       "5   Hello, Albert Lopez! You have 2 unread messages.         apple  \n",
       "\n",
       "[6 rows x 22 columns]"
      ]
     },
     "execution_count": 9,
     "metadata": {},
     "output_type": "execute_result"
    }
   ],
   "source": [
    "Details_of_user"
   ]
  },
  {
   "cell_type": "code",
   "execution_count": 11,
   "id": "3c4db515-d1bf-43c2-8a71-927a33070dd2",
   "metadata": {},
   "outputs": [
    {
     "data": {
      "text/plain": [
       "27.833333333333332"
      ]
     },
     "execution_count": 11,
     "metadata": {},
     "output_type": "execute_result"
    }
   ],
   "source": [
    "average_age_of_user= Details_of_user[\"age\"].mean()\n",
    "average_age_of_user"
   ]
  },
  {
   "cell_type": "markdown",
   "id": "f12c0fd7-5338-42ab-b5e8-66ee69dd65cf",
   "metadata": {},
   "source": [
    "## The Average age of the users is 27.833333333333332"
   ]
  },
  {
   "cell_type": "markdown",
   "id": "a939bdf3-b046-4e0b-af66-830c88daa2ff",
   "metadata": {},
   "source": [
    "## The users had equal numbers of purchase of fruits leading to no favorite fruits as graphically below\n",
    "\n",
    "\n"
   ]
  },
  {
   "cell_type": "code",
   "execution_count": 21,
   "id": "62911254-73b6-4c52-ab69-c5d08e7a13ec",
   "metadata": {},
   "outputs": [
    {
     "data": {
      "text/plain": [
       "<Axes: ylabel='count'>"
      ]
     },
     "execution_count": 21,
     "metadata": {},
     "output_type": "execute_result"
    },
    {
     "data": {
      "image/png": "[encoded data removed]",
      "text/plain": [
       "<Figure size 640x480 with 1 Axes>"
      ]
     },
     "metadata": {},
     "output_type": "display_data"
    }
   ],
   "source": [
    "favorite_fruit=Details_of_user[\"favoriteFruit\"].value_counts().plot.pie()\n",
    "favorite_fruit\n"
   ]
  },
  {
   "cell_type": "markdown",
   "id": "95928d3a-a570-420d-a588-b6433acee256",
   "metadata": {},
   "source": [
    "## We do not have more female customers because Graphically the data shows that we have equal number of genders as customers."
   ]
  },
  {
   "cell_type": "code",
   "execution_count": 24,
   "id": "d08230a7-74dc-46b5-b9bf-210c3435f9d9",
   "metadata": {},
   "outputs": [
    {
     "data": {
      "image/png": "[encoded data removed]",
      "text/plain": [
       "<Figure size 640x480 with 1 Axes>"
      ]
     },
     "metadata": {},
     "output_type": "display_data"
    }
   ],
   "source": [
    "female_customers=Details_of_user[\"gender\"].value_counts().plot.bar()"
   ]
  },
  {
   "cell_type": "markdown",
   "id": "160c5d9f-4c42-4073-a65b-28fb0f7ce531",
   "metadata": {},
   "source": [
    "## Number of active users = 3"
   ]
  },
  {
   "cell_type": "code",
   "execution_count": 38,
   "id": "5aa94105-c8e2-4bd4-9f61-bc28af52997b",
   "metadata": {},
   "outputs": [
    {
     "data": {
      "text/plain": [
       "3"
      ]
     },
     "execution_count": 38,
     "metadata": {},
     "output_type": "execute_result"
    }
   ],
   "source": [
    "active_users=Details_of_user[\"isActive\"].value_counts().loc[True]\n",
    "active_users"
   ]
  },
  {
   "cell_type": "code",
   "execution_count": null,
   "id": "d97b11ea-8d3a-4db8-91a7-33197c498dd8",
   "metadata": {},
   "outputs": [],
   "source": []
  }
 ],
 "metadata": {
  "kernelspec": {
   "display_name": "Python 3 (ipykernel)",
   "language": "python",
   "name": "python3"
  },
  "language_info": {
   "codemirror_mode": {
    "name": "ipython",
    "version": 3
   },
   "file_extension": ".py",
   "mimetype": "text/x-python",
   "name": "python",
   "nbconvert_exporter": "python",
   "pygments_lexer": "ipython3",
   "version": "3.11.5"
  }
 },
 "nbformat": 4,
 "nbformat_minor": 5
}
